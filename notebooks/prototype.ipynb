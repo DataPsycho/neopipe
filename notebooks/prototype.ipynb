{
 "cells": [
  {
   "cell_type": "code",
   "execution_count": 7,
   "metadata": {},
   "outputs": [],
   "source": [
    "import logging\n",
    "from typing import Callable, List, Any\n",
    "from neopipe.result import Result, Ok, Err\n",
    "from neopipe.pipeline import Pipeline\n",
    "from neopipe.task import Task"
   ]
  },
  {
   "cell_type": "code",
   "execution_count": 8,
   "metadata": {},
   "outputs": [],
   "source": [
    "# Initialize logging\n",
    "logging.basicConfig(level=logging.INFO)"
   ]
  },
  {
   "cell_type": "code",
   "execution_count": 9,
   "metadata": {},
   "outputs": [
    {
     "name": "stderr",
     "output_type": "stream",
     "text": [
      "Pipeline Progress:   0%|           [ 00:00 ]INFO:root:Task get_all_users succeeded on attempt 1\n",
      "INFO:root:Task filter_users_by_length succeeded on attempt 1\n",
      "INFO:root:Task calculate_statistics succeeded on attempt 1\n",
      "Pipeline Progress: 100%|██████████ [ 00:00 ]\n",
      "INFO:root:Pipeline completed successfully. Statistics: {'total_names': 3, 'longest_name': 'Charlie'}\n"
     ]
    }
   ],
   "source": [
    "# Define your pipeline\n",
    "pipeline = Pipeline()\n",
    "\n",
    "# Define example tasks using pipeline.task decorator\n",
    "\n",
    "@pipeline.task(retries=3)\n",
    "def get_all_users(data):\n",
    "    # Example task: Extract names from data\n",
    "    try:\n",
    "        names = [item[\"name\"] for item in data]\n",
    "        return Ok(names)\n",
    "    except KeyError as e:\n",
    "        return Err(f\"KeyError: {str(e)}\")\n",
    "\n",
    "@pipeline.task(retries=2)\n",
    "def filter_users_by_length(names):\n",
    "    # Example task: Filter names based on criteria\n",
    "    filtered_names = [name for name in names if len(name) > 3]\n",
    "    return Ok(filtered_names)\n",
    "\n",
    "\n",
    "def calculate_statistics(filtered_names):\n",
    "    # Example task: Calculate statistics\n",
    "    statistics = {\n",
    "        \"total_names\": len(filtered_names),\n",
    "        \"longest_name\": max(filtered_names, key=len) if filtered_names else None\n",
    "    }\n",
    "    return Ok(statistics)\n",
    "\n",
    "pipeline.append_task(Task(calculate_statistics, retries=2))\n",
    "\n",
    "# Sample data\n",
    "sample_data = [\n",
    "    {\"name\": \"Alice\"},\n",
    "    {\"name\": \"Bob\"},\n",
    "    {\"name\": \"Charlie\"},\n",
    "    {\"name\": \"David\"},\n",
    "    {\"name\": \"Eve\"},\n",
    "]\n",
    "\n",
    "# Run the pipeline\n",
    "result = pipeline.run(sample_data, show_progress=True)  # Set verbosity to True to display progress bar\n",
    "\n",
    "# Check the final result\n",
    "if result.is_ok():\n",
    "    final_statistics = result.unwrap()\n",
    "    logging.info(f\"Pipeline completed successfully. Statistics: {final_statistics}\")\n",
    "else:\n",
    "    logging.error(f\"Pipeline failed. Error: {result.unwrap_err()}\")\n"
   ]
  }
 ],
 "metadata": {
  "kernelspec": {
   "display_name": ".venv",
   "language": "python",
   "name": "python3"
  },
  "language_info": {
   "codemirror_mode": {
    "name": "ipython",
    "version": 3
   },
   "file_extension": ".py",
   "mimetype": "text/x-python",
   "name": "python",
   "nbconvert_exporter": "python",
   "pygments_lexer": "ipython3",
   "version": "3.11.6"
  }
 },
 "nbformat": 4,
 "nbformat_minor": 2
}
