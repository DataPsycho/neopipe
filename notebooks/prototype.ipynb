{
 "cells": [
  {
   "cell_type": "code",
   "execution_count": 1,
   "metadata": {},
   "outputs": [],
   "source": [
    "import json\n",
    "import logging\n",
    "from typing import List, Dict, Any\n",
    "from neopipe.pipeline import Pipeline\n",
    "from neopipe.result import Result, Ok, Err"
   ]
  },
  {
   "cell_type": "code",
   "execution_count": 2,
   "metadata": {},
   "outputs": [
    {
     "name": "stderr",
     "output_type": "stream",
     "text": [
      "2024-06-27 01:12:42 - neopipe.pipeline - INFO - Pipeline started (UUID: 4070ce10-9e8d-41f8-9e08-ecc6d26024ae)\n",
      "2024-06-27 01:12:42 - neopipe.task - INFO - Task process_fruit_data succeeded on attempt 1\n",
      "2024-06-27 01:12:42 - neopipe.task - INFO - Task calculate_average succeeded on attempt 1\n"
     ]
    },
    {
     "name": "stdout",
     "output_type": "stream",
     "text": [
      "Result(value={'unique_fruits': ['banana', 'apple', 'orange'], 'total_quantity': 30, 'average_quantity': 10.0}, error=None)\n"
     ]
    }
   ],
   "source": [
    "\n",
    "logger = logging.getLogger(__name__)\n",
    "logger.setLevel(logging.INFO)\n",
    "pipeline = Pipeline()\n",
    "\n",
    "@pipeline.register(retries=3)\n",
    "def process_fruit_data(fruit_data: List[Dict[str, Any]]) -> Result[Dict[str, Any], str]:\n",
    "    try:\n",
    "        unique_fruits = list(set(item['fruit'] for item in fruit_data))\n",
    "        total_quantity = sum(item['quantity'] for item in fruit_data if item.get('quantity') is not None)\n",
    "        return Ok({\"unique_fruits\": unique_fruits, \"total_quantity\": total_quantity})\n",
    "    except (TypeError, KeyError) as e:\n",
    "        return Err(f\"Error processing fruit data: {str(e)}\")\n",
    "\n",
    "@pipeline.register(retries=3)\n",
    "def calculate_average(data: Dict[str, Any]) -> Result[Dict[str, Any], str]:\n",
    "    try:\n",
    "        total_quantity = data[\"total_quantity\"]\n",
    "        unique_fruits = data[\"unique_fruits\"]\n",
    "        average_quantity = total_quantity / len(unique_fruits) if unique_fruits else 0\n",
    "        return Ok({\n",
    "            \"unique_fruits\": unique_fruits,\n",
    "            \"total_quantity\": total_quantity,\n",
    "            \"average_quantity\": average_quantity\n",
    "        })\n",
    "    except (TypeError, KeyError, ZeroDivisionError) as e:\n",
    "        return Err(f\"Error calculating average quantity: {str(e)}\")\n",
    "\n",
    "# Example event for local testing\n",
    "if __name__ == \"__main__\":\n",
    "    \n",
    "    event = [\n",
    "        {\"fruit\": \"apple\", \"quantity\": 10},\n",
    "        {\"fruit\": \"banana\", \"quantity\": 20},\n",
    "        {\"fruit\": \"orange\", \"quantity\": None}\n",
    "    ]\n",
    "    result = pipeline.run(event)\n",
    "    print(result)"
   ]
  },
  {
   "cell_type": "code",
   "execution_count": 3,
   "metadata": {},
   "outputs": [
    {
     "name": "stdout",
     "output_type": "stream",
     "text": [
      "Pipeline Execution Plan:\n",
      "==============================\n",
      "process_fruit_data : typing.List[typing.Dict[str, typing.Any]] -> neopipe.result.Result[typing.Dict[str, typing.Any], str]\n",
      " |\n",
      " V\n",
      "calculate_average : typing.Dict[str, typing.Any] -> neopipe.result.Result[typing.Dict[str, typing.Any], str]\n",
      "==============================\n"
     ]
    }
   ],
   "source": [
    "pipeline.show_execution_plan()"
   ]
  },
  {
   "cell_type": "code",
   "execution_count": 4,
   "metadata": {},
   "outputs": [
    {
     "name": "stdout",
     "output_type": "stream",
     "text": [
      "Pipeline with 2 tasks:\n",
      "  Task(process_fruit_data, retries=3)\n",
      "  Task(calculate_average, retries=3)\n"
     ]
    }
   ],
   "source": [
    "print(pipeline)"
   ]
  }
 ],
 "metadata": {
  "kernelspec": {
   "display_name": ".venv",
   "language": "python",
   "name": "python3"
  },
  "language_info": {
   "codemirror_mode": {
    "name": "ipython",
    "version": 3
   },
   "file_extension": ".py",
   "mimetype": "text/x-python",
   "name": "python",
   "nbconvert_exporter": "python",
   "pygments_lexer": "ipython3",
   "version": "3.11.6"
  }
 },
 "nbformat": 4,
 "nbformat_minor": 2
}
