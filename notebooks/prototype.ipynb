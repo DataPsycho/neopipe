{
 "cells": [
  {
   "cell_type": "code",
   "execution_count": 1,
   "metadata": {},
   "outputs": [],
   "source": [
    "from neopipe.pipeline import Pipeline"
   ]
  },
  {
   "cell_type": "code",
   "execution_count": 2,
   "metadata": {},
   "outputs": [],
   "source": [
    "pipeline = Pipeline()"
   ]
  },
  {
   "cell_type": "code",
   "execution_count": 3,
   "metadata": {},
   "outputs": [],
   "source": [
    "data = [\n",
    "    {\"name\": f\"User{i % 10}\", \"earning\": i % 7, \"day\": i % 5} for i in range(25)\n",
    "]"
   ]
  },
  {
   "cell_type": "code",
   "execution_count": 5,
   "metadata": {},
   "outputs": [],
   "source": [
    "from typing import List, Dict, Any\n",
    "from neopipe.result import Result, Ok, Err"
   ]
  },
  {
   "cell_type": "code",
   "execution_count": 6,
   "metadata": {},
   "outputs": [],
   "source": [
    "@pipeline.task()\n",
    "def find_unique_names(data: List[Dict[str, Any]]) -> Result[List[str], str]:\n",
    "    try:\n",
    "        unique_names = list(set(item['name'] for item in data))\n",
    "        return Ok(unique_names)\n",
    "    except Exception as e:\n",
    "        return Err(f\"Error finding unique names: {str(e)}\")"
   ]
  },
  {
   "cell_type": "code",
   "execution_count": 11,
   "metadata": {},
   "outputs": [],
   "source": [
    "@pipeline.task()\n",
    "def sort_users(data: List[str]) -> Result[List[str], str]:\n",
    "    try:\n",
    "        sorted_data = sorted(data)\n",
    "        return Ok(sorted_data)\n",
    "    except Exception as e:\n",
    "        return Err(f\"Error sorting users: {str(e)}\")"
   ]
  },
  {
   "cell_type": "code",
   "execution_count": 12,
   "metadata": {},
   "outputs": [
    {
     "name": "stderr",
     "output_type": "stream",
     "text": [
      "INFO:root:Task find_unique_names succeeded on attempt 1\n",
      "INFO:root:Task sort_users succeeded on attempt 1\n"
     ]
    }
   ],
   "source": [
    "result = pipeline.run(initial_value=data)"
   ]
  },
  {
   "cell_type": "code",
   "execution_count": 13,
   "metadata": {},
   "outputs": [
    {
     "name": "stdout",
     "output_type": "stream",
     "text": [
      "['User0', 'User1', 'User2', 'User3', 'User4', 'User5', 'User6', 'User7', 'User8', 'User9']\n"
     ]
    }
   ],
   "source": [
    "if result.is_ok():\n",
    "    print(result.value)"
   ]
  }
 ],
 "metadata": {
  "kernelspec": {
   "display_name": ".venv",
   "language": "python",
   "name": "python3"
  },
  "language_info": {
   "codemirror_mode": {
    "name": "ipython",
    "version": 3
   },
   "file_extension": ".py",
   "mimetype": "text/x-python",
   "name": "python",
   "nbconvert_exporter": "python",
   "pygments_lexer": "ipython3",
   "version": "3.11.6"
  }
 },
 "nbformat": 4,
 "nbformat_minor": 2
}
